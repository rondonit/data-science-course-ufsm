{
  "cells": [
    {
      "cell_type": "code",
      "execution_count": 2,
      "metadata": {
        "id": "it5QZ_ZXX6eC"
      },
      "outputs": [],
      "source": [
        "import pandas as pd\n",
        "\n",
        "data = pd.read_csv('../data/inadimplentes.csv')"
      ]
    },
    {
      "cell_type": "code",
      "execution_count": 3,
      "metadata": {
        "colab": {
          "base_uri": "https://localhost:8080/",
          "height": 206
        },
        "id": "Ci4C9wr5Jbo8",
        "outputId": "02b02665-51fd-409a-fe7c-bdb1db76fbb1"
      },
      "outputs": [
        {
          "data": {
            "text/html": [
              "<div>\n",
              "<style scoped>\n",
              "    .dataframe tbody tr th:only-of-type {\n",
              "        vertical-align: middle;\n",
              "    }\n",
              "\n",
              "    .dataframe tbody tr th {\n",
              "        vertical-align: top;\n",
              "    }\n",
              "\n",
              "    .dataframe thead th {\n",
              "        text-align: right;\n",
              "    }\n",
              "</style>\n",
              "<table border=\"1\" class=\"dataframe\">\n",
              "  <thead>\n",
              "    <tr style=\"text-align: right;\">\n",
              "      <th></th>\n",
              "      <th>score_credito</th>\n",
              "      <th>idade</th>\n",
              "      <th>inadimplente</th>\n",
              "    </tr>\n",
              "  </thead>\n",
              "  <tbody>\n",
              "    <tr>\n",
              "      <th>0</th>\n",
              "      <td>402</td>\n",
              "      <td>48</td>\n",
              "      <td>0</td>\n",
              "    </tr>\n",
              "    <tr>\n",
              "      <th>1</th>\n",
              "      <td>735</td>\n",
              "      <td>23</td>\n",
              "      <td>0</td>\n",
              "    </tr>\n",
              "    <tr>\n",
              "      <th>2</th>\n",
              "      <td>570</td>\n",
              "      <td>44</td>\n",
              "      <td>0</td>\n",
              "    </tr>\n",
              "    <tr>\n",
              "      <th>3</th>\n",
              "      <td>406</td>\n",
              "      <td>57</td>\n",
              "      <td>0</td>\n",
              "    </tr>\n",
              "    <tr>\n",
              "      <th>4</th>\n",
              "      <td>371</td>\n",
              "      <td>51</td>\n",
              "      <td>0</td>\n",
              "    </tr>\n",
              "  </tbody>\n",
              "</table>\n",
              "</div>"
            ],
            "text/plain": [
              "   score_credito  idade  inadimplente\n",
              "0            402     48             0\n",
              "1            735     23             0\n",
              "2            570     44             0\n",
              "3            406     57             0\n",
              "4            371     51             0"
            ]
          },
          "execution_count": 3,
          "metadata": {},
          "output_type": "execute_result"
        }
      ],
      "source": [
        "data.head()"
      ]
    },
    {
      "cell_type": "code",
      "execution_count": 4,
      "metadata": {
        "colab": {
          "base_uri": "https://localhost:8080/"
        },
        "id": "iYbUg3plJoqT",
        "outputId": "eb1decf9-daf1-4e91-d627-92a86e78788d"
      },
      "outputs": [
        {
          "name": "stdout",
          "output_type": "stream",
          "text": [
            "Distribuição original:  inadimplente\n",
            "0    0.857\n",
            "1    0.143\n",
            "Name: proportion, dtype: float64\n"
          ]
        }
      ],
      "source": [
        "print (\"Distribuição original: \", data['inadimplente'].value_counts(normalize=True))"
      ]
    },
    {
      "cell_type": "code",
      "execution_count": 5,
      "metadata": {
        "id": "X_GeMeECKCSL"
      },
      "outputs": [],
      "source": [
        "X = data.drop('inadimplente', axis=1)\n",
        "y = data['inadimplente']"
      ]
    },
    {
      "cell_type": "code",
      "execution_count": 6,
      "metadata": {
        "id": "YjntuGTnG--f"
      },
      "outputs": [],
      "source": [
        "from sklearn.metrics import (recall_score, precision_score, f1_score,\n",
        "                            accuracy_score, confusion_matrix,\n",
        "                            roc_auc_score, RocCurveDisplay)\n",
        "import matplotlib.pyplot as plt\n",
        "from IPython.display import display\n",
        "\n",
        "def avalia_modelo(X_train, X_test, y_train, y_test, model):\n",
        "    model.fit(X_train, y_train)\n",
        "    y_pred = model.predict(X_test)\n",
        "    y_proba = model.predict_proba(X_test)[:, 1]\n",
        "\n",
        "    metrics = {\n",
        "        'Recall': recall_score(y_test, y_pred),\n",
        "        'Precisão': precision_score(y_test, y_pred),\n",
        "        'F1-Score': f1_score(y_test, y_pred),\n",
        "        'Acurácia': accuracy_score(y_test, y_pred),\n",
        "        'AUC-ROC': roc_auc_score(y_test, y_proba)\n",
        "    }\n",
        "\n",
        "    print(\"\\nMatriz de Confusão:\")\n",
        "    display(pd.DataFrame(confusion_matrix(y_test, y_pred),\n",
        "             columns=['Previsto Não', 'Previsto Sim'],\n",
        "             index=['Real Não', 'Real Sim']))\n",
        "\n",
        "    RocCurveDisplay.from_estimator(model, X_test, y_test)\n",
        "    plt.title('Curva ROC')\n",
        "    plt.show()\n",
        "\n",
        "    return pd.DataFrame([metrics])"
      ]
    },
    {
      "cell_type": "code",
      "execution_count": 12,
      "metadata": {
        "colab": {
          "base_uri": "https://localhost:8080/",
          "height": 720
        },
        "id": "ZrR2NxoQKtNq",
        "outputId": "189f1ccf-e836-4b6d-dda3-944015c429c0"
      },
      "outputs": [
        {
          "name": "stdout",
          "output_type": "stream",
          "text": [
            "\n",
            "Matriz de Confusão:\n"
          ]
        },
        {
          "data": {
            "text/html": [
              "<div>\n",
              "<style scoped>\n",
              "    .dataframe tbody tr th:only-of-type {\n",
              "        vertical-align: middle;\n",
              "    }\n",
              "\n",
              "    .dataframe tbody tr th {\n",
              "        vertical-align: top;\n",
              "    }\n",
              "\n",
              "    .dataframe thead th {\n",
              "        text-align: right;\n",
              "    }\n",
              "</style>\n",
              "<table border=\"1\" class=\"dataframe\">\n",
              "  <thead>\n",
              "    <tr style=\"text-align: right;\">\n",
              "      <th></th>\n",
              "      <th>Previsto Não</th>\n",
              "      <th>Previsto Sim</th>\n",
              "    </tr>\n",
              "  </thead>\n",
              "  <tbody>\n",
              "    <tr>\n",
              "      <th>Real Não</th>\n",
              "      <td>147</td>\n",
              "      <td>110</td>\n",
              "    </tr>\n",
              "    <tr>\n",
              "      <th>Real Sim</th>\n",
              "      <td>21</td>\n",
              "      <td>22</td>\n",
              "    </tr>\n",
              "  </tbody>\n",
              "</table>\n",
              "</div>"
            ],
            "text/plain": [
              "          Previsto Não  Previsto Sim\n",
              "Real Não           147           110\n",
              "Real Sim            21            22"
            ]
          },
          "metadata": {},
          "output_type": "display_data"
        },
        {
          "data": {
            "image/png": "[encoded data removed]",
            "text/plain": [
              "<Figure size 640x480 with 1 Axes>"
            ]
          },
          "metadata": {},
          "output_type": "display_data"
        },
        {
          "data": {
            "text/html": [
              "<div>\n",
              "<style scoped>\n",
              "    .dataframe tbody tr th:only-of-type {\n",
              "        vertical-align: middle;\n",
              "    }\n",
              "\n",
              "    .dataframe tbody tr th {\n",
              "        vertical-align: top;\n",
              "    }\n",
              "\n",
              "    .dataframe thead th {\n",
              "        text-align: right;\n",
              "    }\n",
              "</style>\n",
              "<table border=\"1\" class=\"dataframe\">\n",
              "  <thead>\n",
              "    <tr style=\"text-align: right;\">\n",
              "      <th></th>\n",
              "      <th>Recall</th>\n",
              "      <th>Precisão</th>\n",
              "      <th>F1-Score</th>\n",
              "      <th>Acurácia</th>\n",
              "      <th>AUC-ROC</th>\n",
              "    </tr>\n",
              "  </thead>\n",
              "  <tbody>\n",
              "    <tr>\n",
              "      <th>0</th>\n",
              "      <td>0.511628</td>\n",
              "      <td>0.166667</td>\n",
              "      <td>0.251429</td>\n",
              "      <td>0.563333</td>\n",
              "      <td>0.546828</td>\n",
              "    </tr>\n",
              "  </tbody>\n",
              "</table>\n",
              "</div>"
            ],
            "text/plain": [
              "     Recall  Precisão  F1-Score  Acurácia   AUC-ROC\n",
              "0  0.511628  0.166667  0.251429  0.563333  0.546828"
            ]
          },
          "execution_count": 12,
          "metadata": {},
          "output_type": "execute_result"
        }
      ],
      "source": [
        "from sklearn.model_selection import train_test_split\n",
        "from sklearn.linear_model import LogisticRegression\n",
        "from sklearn.preprocessing import StandardScaler\n",
        "\n",
        "# 1. Transforme variáveis categóricas em dummies\n",
        "X_proc = pd.get_dummies(X, drop_first=True)\n",
        "\n",
        "# 2. Padronize os dados\n",
        "scaler = StandardScaler()\n",
        "X_proc_scaled = scaler.fit_transform(X_proc)\n",
        "\n",
        "# 3. Split\n",
        "X_train, X_test, y_train, y_test = train_test_split(\n",
        "    X_proc_scaled, y, test_size=0.3, random_state=42, stratify=y\n",
        ")\n",
        "\n",
        "# 4. Modelo com ajuste para desbalanceamento\n",
        "modelo = LogisticRegression(class_weight='balanced')\n",
        "\n",
        "holdout_metricas = avalia_modelo(X_train, X_test, y_train, y_test, modelo)\n",
        "holdout_metricas"
      ]
    },
    {
      "cell_type": "code",
      "execution_count": 13,
      "metadata": {
        "colab": {
          "base_uri": "https://localhost:8080/",
          "height": 417
        },
        "id": "CIKLfIQTMbqT",
        "outputId": "7e3413f0-f857-4c9a-aac7-c79cf8305e8e"
      },
      "outputs": [
        {
          "name": "stdout",
          "output_type": "stream",
          "text": [
            "----Métricas k-fold tradicional----\n"
          ]
        },
        {
          "data": {
            "text/html": [
              "<div>\n",
              "<style scoped>\n",
              "    .dataframe tbody tr th:only-of-type {\n",
              "        vertical-align: middle;\n",
              "    }\n",
              "\n",
              "    .dataframe tbody tr th {\n",
              "        vertical-align: top;\n",
              "    }\n",
              "\n",
              "    .dataframe thead th {\n",
              "        text-align: right;\n",
              "    }\n",
              "</style>\n",
              "<table border=\"1\" class=\"dataframe\">\n",
              "  <thead>\n",
              "    <tr style=\"text-align: right;\">\n",
              "      <th></th>\n",
              "      <th>Recall</th>\n",
              "      <th>Precisão</th>\n",
              "      <th>F1-Score</th>\n",
              "      <th>Acurácia</th>\n",
              "      <th>AUC-ROC</th>\n",
              "    </tr>\n",
              "  </thead>\n",
              "  <tbody>\n",
              "    <tr>\n",
              "      <th>0</th>\n",
              "      <td>0.388889</td>\n",
              "      <td>0.138614</td>\n",
              "      <td>0.204380</td>\n",
              "      <td>0.455</td>\n",
              "      <td>0.382791</td>\n",
              "    </tr>\n",
              "    <tr>\n",
              "      <th>1</th>\n",
              "      <td>0.541667</td>\n",
              "      <td>0.147727</td>\n",
              "      <td>0.232143</td>\n",
              "      <td>0.570</td>\n",
              "      <td>0.624763</td>\n",
              "    </tr>\n",
              "    <tr>\n",
              "      <th>2</th>\n",
              "      <td>0.531250</td>\n",
              "      <td>0.168317</td>\n",
              "      <td>0.255639</td>\n",
              "      <td>0.505</td>\n",
              "      <td>0.504185</td>\n",
              "    </tr>\n",
              "    <tr>\n",
              "      <th>3</th>\n",
              "      <td>0.541667</td>\n",
              "      <td>0.127451</td>\n",
              "      <td>0.206349</td>\n",
              "      <td>0.500</td>\n",
              "      <td>0.493845</td>\n",
              "    </tr>\n",
              "    <tr>\n",
              "      <th>4</th>\n",
              "      <td>0.370370</td>\n",
              "      <td>0.095238</td>\n",
              "      <td>0.151515</td>\n",
              "      <td>0.440</td>\n",
              "      <td>0.412117</td>\n",
              "    </tr>\n",
              "  </tbody>\n",
              "</table>\n",
              "</div>"
            ],
            "text/plain": [
              "     Recall  Precisão  F1-Score  Acurácia   AUC-ROC\n",
              "0  0.388889  0.138614  0.204380     0.455  0.382791\n",
              "1  0.541667  0.147727  0.232143     0.570  0.624763\n",
              "2  0.531250  0.168317  0.255639     0.505  0.504185\n",
              "3  0.541667  0.127451  0.206349     0.500  0.493845\n",
              "4  0.370370  0.095238  0.151515     0.440  0.412117"
            ]
          },
          "execution_count": 13,
          "metadata": {},
          "output_type": "execute_result"
        }
      ],
      "source": [
        "from sklearn.model_selection import KFold, cross_validate\n",
        "\n",
        "# Validação cruzada tradicional\n",
        "\n",
        "kf = KFold(n_splits=5, shuffle=True, random_state=42)\n",
        "cv_metrics = cross_validate(\n",
        "    modelo, X_proc_scaled, y, cv=kf,\n",
        "    scoring=['recall', 'precision', 'f1', 'accuracy', 'roc_auc'],\n",
        "    return_train_score=False\n",
        ")\n",
        "\n",
        "print (\"----Métricas k-fold tradicional----\")\n",
        "kfold_metricas = pd.DataFrame(\n",
        "    { 'Recall': cv_metrics['test_recall'],\n",
        "      'Precisão': cv_metrics['test_precision'],\n",
        "      'F1-Score': cv_metrics['test_f1'],\n",
        "      'Acurácia': cv_metrics['test_accuracy'],\n",
        "      'AUC-ROC': cv_metrics['test_roc_auc']\n",
        "      }\n",
        ")\n",
        "kfold_metricas"
      ]
    },
    {
      "cell_type": "code",
      "execution_count": 9,
      "metadata": {
        "colab": {
          "base_uri": "https://localhost:8080/",
          "height": 112
        },
        "id": "5sjMdqSDPZaK",
        "outputId": "9a20f928-ce2a-4e32-ddf7-7df14d8adfd3"
      },
      "outputs": [
        {
          "data": {
            "text/html": [
              "<div>\n",
              "<style scoped>\n",
              "    .dataframe tbody tr th:only-of-type {\n",
              "        vertical-align: middle;\n",
              "    }\n",
              "\n",
              "    .dataframe tbody tr th {\n",
              "        vertical-align: top;\n",
              "    }\n",
              "\n",
              "    .dataframe thead th {\n",
              "        text-align: right;\n",
              "    }\n",
              "</style>\n",
              "<table border=\"1\" class=\"dataframe\">\n",
              "  <thead>\n",
              "    <tr style=\"text-align: right;\">\n",
              "      <th></th>\n",
              "      <th>Recall</th>\n",
              "      <th>Precisão</th>\n",
              "      <th>F1-Score</th>\n",
              "      <th>Acurácia</th>\n",
              "      <th>AUC-ROC</th>\n",
              "    </tr>\n",
              "  </thead>\n",
              "  <tbody>\n",
              "    <tr>\n",
              "      <th>mean</th>\n",
              "      <td>0.0</td>\n",
              "      <td>0.0</td>\n",
              "      <td>0.0</td>\n",
              "      <td>0.857000</td>\n",
              "      <td>0.483574</td>\n",
              "    </tr>\n",
              "    <tr>\n",
              "      <th>std</th>\n",
              "      <td>0.0</td>\n",
              "      <td>0.0</td>\n",
              "      <td>0.0</td>\n",
              "      <td>0.026363</td>\n",
              "      <td>0.093743</td>\n",
              "    </tr>\n",
              "  </tbody>\n",
              "</table>\n",
              "</div>"
            ],
            "text/plain": [
              "      Recall  Precisão  F1-Score  Acurácia   AUC-ROC\n",
              "mean     0.0       0.0       0.0  0.857000  0.483574\n",
              "std      0.0       0.0       0.0  0.026363  0.093743"
            ]
          },
          "metadata": {},
          "output_type": "display_data"
        }
      ],
      "source": [
        "display(kfold_metricas.describe().loc[['mean', 'std']])"
      ]
    },
    {
      "cell_type": "code",
      "execution_count": 14,
      "metadata": {
        "colab": {
          "base_uri": "https://localhost:8080/",
          "height": 417
        },
        "id": "tS30wpV0PxnJ",
        "outputId": "4ccc9267-1c6d-4f08-f827-b2e41d03e581"
      },
      "outputs": [
        {
          "name": "stdout",
          "output_type": "stream",
          "text": [
            "----Métricas k-fold estratificada----\n"
          ]
        },
        {
          "data": {
            "text/html": [
              "<div>\n",
              "<style scoped>\n",
              "    .dataframe tbody tr th:only-of-type {\n",
              "        vertical-align: middle;\n",
              "    }\n",
              "\n",
              "    .dataframe tbody tr th {\n",
              "        vertical-align: top;\n",
              "    }\n",
              "\n",
              "    .dataframe thead th {\n",
              "        text-align: right;\n",
              "    }\n",
              "</style>\n",
              "<table border=\"1\" class=\"dataframe\">\n",
              "  <thead>\n",
              "    <tr style=\"text-align: right;\">\n",
              "      <th></th>\n",
              "      <th>Recall</th>\n",
              "      <th>Precisão</th>\n",
              "      <th>F1-Score</th>\n",
              "      <th>Acurácia</th>\n",
              "      <th>AUC-ROC</th>\n",
              "    </tr>\n",
              "  </thead>\n",
              "  <tbody>\n",
              "    <tr>\n",
              "      <th>0</th>\n",
              "      <td>0.642857</td>\n",
              "      <td>0.171429</td>\n",
              "      <td>0.270677</td>\n",
              "      <td>0.515</td>\n",
              "      <td>0.582641</td>\n",
              "    </tr>\n",
              "    <tr>\n",
              "      <th>1</th>\n",
              "      <td>0.392857</td>\n",
              "      <td>0.114583</td>\n",
              "      <td>0.177419</td>\n",
              "      <td>0.490</td>\n",
              "      <td>0.443522</td>\n",
              "    </tr>\n",
              "    <tr>\n",
              "      <th>2</th>\n",
              "      <td>0.482759</td>\n",
              "      <td>0.172840</td>\n",
              "      <td>0.254545</td>\n",
              "      <td>0.590</td>\n",
              "      <td>0.556765</td>\n",
              "    </tr>\n",
              "    <tr>\n",
              "      <th>3</th>\n",
              "      <td>0.517241</td>\n",
              "      <td>0.159574</td>\n",
              "      <td>0.243902</td>\n",
              "      <td>0.535</td>\n",
              "      <td>0.510184</td>\n",
              "    </tr>\n",
              "    <tr>\n",
              "      <th>4</th>\n",
              "      <td>0.655172</td>\n",
              "      <td>0.179245</td>\n",
              "      <td>0.281481</td>\n",
              "      <td>0.515</td>\n",
              "      <td>0.568058</td>\n",
              "    </tr>\n",
              "  </tbody>\n",
              "</table>\n",
              "</div>"
            ],
            "text/plain": [
              "     Recall  Precisão  F1-Score  Acurácia   AUC-ROC\n",
              "0  0.642857  0.171429  0.270677     0.515  0.582641\n",
              "1  0.392857  0.114583  0.177419     0.490  0.443522\n",
              "2  0.482759  0.172840  0.254545     0.590  0.556765\n",
              "3  0.517241  0.159574  0.243902     0.535  0.510184\n",
              "4  0.655172  0.179245  0.281481     0.515  0.568058"
            ]
          },
          "execution_count": 14,
          "metadata": {},
          "output_type": "execute_result"
        }
      ],
      "source": [
        "from sklearn.model_selection import StratifiedKFold\n",
        "\n",
        "# Validação cruzada estratificada\n",
        "\n",
        "skf = StratifiedKFold(n_splits=5, shuffle=True, random_state=42)\n",
        "\n",
        "cv_metrics_skf = cross_validate(\n",
        "    modelo, X_proc_scaled, y, cv=skf,\n",
        "    scoring=['recall', 'precision', 'f1', 'accuracy', 'roc_auc'],\n",
        "    return_train_score=False\n",
        ")\n",
        "\n",
        "print (\"----Métricas k-fold estratificada----\")\n",
        "skf_metricas = pd.DataFrame(\n",
        "    { 'Recall': cv_metrics_skf['test_recall'],\n",
        "      'Precisão': cv_metrics_skf['test_precision'],\n",
        "      'F1-Score': cv_metrics_skf['test_f1'],\n",
        "      'Acurácia': cv_metrics_skf['test_accuracy'],\n",
        "      'AUC-ROC': cv_metrics_skf['test_roc_auc']\n",
        "      }\n",
        ")\n",
        "skf_metricas"
      ]
    },
    {
      "cell_type": "code",
      "execution_count": 15,
      "metadata": {
        "colab": {
          "base_uri": "https://localhost:8080/",
          "height": 607
        },
        "id": "WaM_Oy5DNeR0",
        "outputId": "ea9e9ecb-8190-4a9b-e1c5-2724d46ba423"
      },
      "outputs": [
        {
          "data": {
            "image/png": "[encoded data removed]",
            "text/plain": [
              "<Figure size 1200x600 with 4 Axes>"
            ]
          },
          "metadata": {},
          "output_type": "display_data"
        }
      ],
      "source": [
        "plt.figure(figsize=(12, 6))\n",
        "metrics_list = ['Recall', 'Precisão', 'F1-Score', 'AUC-ROC']\n",
        "\n",
        "for i, metric in enumerate(metrics_list, 1):\n",
        "    plt.subplot(2, 2, i)\n",
        "    plt.bar(['Holdout', 'k-Fold', 'Stratified'],\n",
        "            [holdout_metricas[metric].values[0],\n",
        "             kfold_metricas[metric].mean(),\n",
        "             skf_metricas[metric].mean()])\n",
        "    plt.title(metric)\n",
        "    if metric == 'Recall':\n",
        "        plt.ylim(0, 1)\n",
        "\n",
        "plt.tight_layout()\n",
        "plt.show()"
      ]
    },
    {
      "cell_type": "markdown",
      "metadata": {
        "id": "FZ_yvG9IR0dr"
      },
      "source": [
        "**Exercício 1:** Até aqui, ficou claro que a melhor abordagem para este dataset é a validação cruzada estratificada, mesmo ela não possuindo a melhor curva ROC como podemos ver no gráfico 4. Isso acontece porque o modelo é mais robusto já que foi exposto a dados equilibrados e diferentes em cada fase de treino e teste. Partido desse cenário, tente realizar algum pré-processamento nos dados e verifique se as métricas melhoram ou pioram."
      ]
    },
    {
      "cell_type": "markdown",
      "metadata": {
        "id": "dsjjYYqVXWqU"
      },
      "source": [
        "**Exercício 2:** Pegue o dataset ``Titanic`` que usamos na aula 3 e faça a previsão de quem sobreviveu e quem faleceu. Decida qual a melhor estratégia de validação e descreva suas conclusões parciais a cada célula do seu Google Colab. Faça as devidas transformações nos dados."
      ]
    }
  ],
  "metadata": {
    "colab": {
      "provenance": []
    },
    "kernelspec": {
      "display_name": ".venv",
      "language": "python",
      "name": "python3"
    },
    "language_info": {
      "codemirror_mode": {
        "name": "ipython",
        "version": 3
      },
      "file_extension": ".py",
      "mimetype": "text/x-python",
      "name": "python",
      "nbconvert_exporter": "python",
      "pygments_lexer": "ipython3",
      "version": "3.13.1"
    }
  },
  "nbformat": 4,
  "nbformat_minor": 0
}
